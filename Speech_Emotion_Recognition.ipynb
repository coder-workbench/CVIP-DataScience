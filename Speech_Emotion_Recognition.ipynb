{
 "cells": [
  {
   "cell_type": "code",
   "execution_count": 1,
   "id": "049cf00a-44cf-4dcd-8685-f189f4344e16",
   "metadata": {
    "id": "049cf00a-44cf-4dcd-8685-f189f4344e16"
   },
   "outputs": [],
   "source": [
    "import numpy as np\n",
    "import tensorflow as tf\n",
    "from tensorflow.keras import layers, models\n",
    "from tensorflow.keras.utils import to_categorical\n",
    "from sklearn.model_selection import train_test_split\n",
    "import matplotlib.pyplot as plt"
   ]
  },
  {
   "cell_type": "code",
   "execution_count": 2,
   "id": "fe1a0fb2-65ed-4033-a91c-d09d14fd51d8",
   "metadata": {
    "id": "fe1a0fb2-65ed-4033-a91c-d09d14fd51d8"
   },
   "outputs": [],
   "source": [
    "np.random.seed(42)"
   ]
  },
  {
   "cell_type": "code",
   "execution_count": 3,
   "id": "3400810b-30bf-4f6b-9989-6255c495b1f9",
   "metadata": {
    "id": "3400810b-30bf-4f6b-9989-6255c495b1f9"
   },
   "outputs": [],
   "source": [
    "num_samples = 1000\n",
    "num_features = 20\n",
    "happy_data = np.random.normal(0, 1, size=(num_samples, num_features))\n",
    "sad_data = np.random.normal(2, 1, size=(num_samples, num_features))"
   ]
  },
  {
   "cell_type": "code",
   "execution_count": 4,
   "id": "bab382dd-a4c0-465a-9168-f9ece2b5f7a9",
   "metadata": {
    "id": "bab382dd-a4c0-465a-9168-f9ece2b5f7a9"
   },
   "outputs": [],
   "source": [
    "happy_labels = np.zeros(num_samples)\n",
    "sad_labels = np.ones(num_samples)"
   ]
  },
  {
   "cell_type": "code",
   "execution_count": 5,
   "id": "f212cb0e-50dd-4760-bd99-901c3c3a86bf",
   "metadata": {
    "id": "f212cb0e-50dd-4760-bd99-901c3c3a86bf"
   },
   "outputs": [],
   "source": [
    "X = np.concatenate([happy_data, sad_data], axis=0)\n",
    "y = np.concatenate([happy_labels, sad_labels], axis=0)"
   ]
  },
  {
   "cell_type": "code",
   "execution_count": 6,
   "id": "0b69df49-4c3c-436d-ab00-03d0281ce2a9",
   "metadata": {
    "id": "0b69df49-4c3c-436d-ab00-03d0281ce2a9"
   },
   "outputs": [],
   "source": [
    "y_onehot = to_categorical(y)"
   ]
  },
  {
   "cell_type": "code",
   "execution_count": 7,
   "id": "4f4b9193-72f1-4e91-aa1e-8b8440c57661",
   "metadata": {
    "id": "4f4b9193-72f1-4e91-aa1e-8b8440c57661"
   },
   "outputs": [],
   "source": [
    "X_train, X_test, y_train, y_test = train_test_split(X, y_onehot, test_size=0.2, random_state=42)"
   ]
  },
  {
   "cell_type": "code",
   "execution_count": 8,
   "id": "9fa102ae-a723-4c7e-b26a-21a0d97b734a",
   "metadata": {
    "id": "9fa102ae-a723-4c7e-b26a-21a0d97b734a"
   },
   "outputs": [],
   "source": [
    "model = models.Sequential([\n",
    "    layers.Dense(256, activation='relu', input_shape=(num_features,)),\n",
    "    layers.Dropout(0.5),\n",
    "    layers.Dense(128, activation='relu'),\n",
    "    layers.Dropout(0.5),\n",
    "    layers.Dense(2, activation='softmax')  # Two classes: happy and sad\n",
    "])"
   ]
  },
  {
   "cell_type": "code",
   "execution_count": 9,
   "id": "8b606aa6-e55d-40f9-8ad8-3e531124afa3",
   "metadata": {
    "id": "8b606aa6-e55d-40f9-8ad8-3e531124afa3"
   },
   "outputs": [],
   "source": [
    "model.compile(\n",
    "    loss='categorical_crossentropy',\n",
    "    optimizer='adam',\n",
    "    metrics=['accuracy']\n",
    ")"
   ]
  },
  {
   "cell_type": "code",
   "execution_count": 10,
   "id": "96b47da0-79c0-4301-b0ea-ddba7884684e",
   "metadata": {
    "colab": {
     "base_uri": "https://localhost:8080/"
    },
    "id": "96b47da0-79c0-4301-b0ea-ddba7884684e",
    "outputId": "07e14d9f-b9f2-4a39-e399-90e3aa265a8e"
   },
   "outputs": [
    {
     "name": "stdout",
     "output_type": "stream",
     "text": [
      "Epoch 1/50\n",
      "50/50 [==============================] - 2s 11ms/step - loss: 0.1828 - accuracy: 0.9306 - val_loss: 0.0223 - val_accuracy: 0.9950\n",
      "Epoch 2/50\n",
      "50/50 [==============================] - 0s 4ms/step - loss: 0.0182 - accuracy: 0.9975 - val_loss: 0.0064 - val_accuracy: 1.0000\n",
      "Epoch 3/50\n",
      "50/50 [==============================] - 0s 3ms/step - loss: 0.0102 - accuracy: 0.9975 - val_loss: 0.0045 - val_accuracy: 1.0000\n",
      "Epoch 4/50\n",
      "50/50 [==============================] - 0s 4ms/step - loss: 0.0050 - accuracy: 0.9981 - val_loss: 0.0043 - val_accuracy: 1.0000\n",
      "Epoch 5/50\n",
      "50/50 [==============================] - 0s 4ms/step - loss: 0.0053 - accuracy: 0.9987 - val_loss: 0.0048 - val_accuracy: 0.9975\n",
      "Epoch 6/50\n",
      "50/50 [==============================] - 0s 5ms/step - loss: 0.0024 - accuracy: 0.9994 - val_loss: 0.0025 - val_accuracy: 1.0000\n",
      "Epoch 7/50\n",
      "50/50 [==============================] - 0s 4ms/step - loss: 0.0017 - accuracy: 1.0000 - val_loss: 0.0025 - val_accuracy: 1.0000\n",
      "Epoch 8/50\n",
      "50/50 [==============================] - 0s 4ms/step - loss: 0.0017 - accuracy: 0.9994 - val_loss: 0.0038 - val_accuracy: 1.0000\n",
      "Epoch 9/50\n",
      "50/50 [==============================] - 0s 4ms/step - loss: 9.1565e-04 - accuracy: 1.0000 - val_loss: 0.0026 - val_accuracy: 1.0000\n",
      "Epoch 10/50\n",
      "50/50 [==============================] - 0s 4ms/step - loss: 0.0028 - accuracy: 0.9994 - val_loss: 0.0068 - val_accuracy: 0.9950\n",
      "Epoch 11/50\n",
      "50/50 [==============================] - 0s 5ms/step - loss: 8.8230e-04 - accuracy: 1.0000 - val_loss: 0.0029 - val_accuracy: 1.0000\n",
      "Epoch 12/50\n",
      "50/50 [==============================] - 0s 4ms/step - loss: 8.1072e-04 - accuracy: 1.0000 - val_loss: 0.0026 - val_accuracy: 1.0000\n",
      "Epoch 13/50\n",
      "50/50 [==============================] - 0s 3ms/step - loss: 5.4156e-04 - accuracy: 1.0000 - val_loss: 0.0031 - val_accuracy: 0.9975\n",
      "Epoch 14/50\n",
      "50/50 [==============================] - 0s 4ms/step - loss: 7.5203e-04 - accuracy: 1.0000 - val_loss: 0.0026 - val_accuracy: 1.0000\n",
      "Epoch 15/50\n",
      "50/50 [==============================] - 0s 4ms/step - loss: 5.5314e-04 - accuracy: 1.0000 - val_loss: 0.0024 - val_accuracy: 1.0000\n",
      "Epoch 16/50\n",
      "50/50 [==============================] - 0s 4ms/step - loss: 7.5110e-04 - accuracy: 1.0000 - val_loss: 0.0015 - val_accuracy: 1.0000\n",
      "Epoch 17/50\n",
      "50/50 [==============================] - 0s 4ms/step - loss: 5.0661e-04 - accuracy: 1.0000 - val_loss: 0.0047 - val_accuracy: 0.9975\n",
      "Epoch 18/50\n",
      "50/50 [==============================] - 0s 4ms/step - loss: 4.7002e-04 - accuracy: 1.0000 - val_loss: 0.0020 - val_accuracy: 1.0000\n",
      "Epoch 19/50\n",
      "50/50 [==============================] - 0s 4ms/step - loss: 1.5715e-04 - accuracy: 1.0000 - val_loss: 0.0022 - val_accuracy: 1.0000\n",
      "Epoch 20/50\n",
      "50/50 [==============================] - 0s 4ms/step - loss: 3.6745e-04 - accuracy: 1.0000 - val_loss: 0.0028 - val_accuracy: 1.0000\n",
      "Epoch 21/50\n",
      "50/50 [==============================] - 0s 4ms/step - loss: 5.8589e-04 - accuracy: 1.0000 - val_loss: 0.0031 - val_accuracy: 1.0000\n",
      "Epoch 22/50\n",
      "50/50 [==============================] - 0s 4ms/step - loss: 0.0011 - accuracy: 0.9994 - val_loss: 9.5702e-04 - val_accuracy: 1.0000\n",
      "Epoch 23/50\n",
      "50/50 [==============================] - 0s 3ms/step - loss: 4.0352e-04 - accuracy: 1.0000 - val_loss: 6.9343e-04 - val_accuracy: 1.0000\n",
      "Epoch 24/50\n",
      "50/50 [==============================] - 0s 4ms/step - loss: 0.0012 - accuracy: 0.9994 - val_loss: 0.0084 - val_accuracy: 0.9950\n",
      "Epoch 25/50\n",
      "50/50 [==============================] - 0s 4ms/step - loss: 2.9719e-04 - accuracy: 1.0000 - val_loss: 0.0033 - val_accuracy: 0.9975\n",
      "Epoch 26/50\n",
      "50/50 [==============================] - 0s 4ms/step - loss: 1.3438e-04 - accuracy: 1.0000 - val_loss: 0.0024 - val_accuracy: 0.9975\n",
      "Epoch 27/50\n",
      "50/50 [==============================] - 0s 4ms/step - loss: 4.8521e-04 - accuracy: 1.0000 - val_loss: 5.7739e-04 - val_accuracy: 1.0000\n",
      "Epoch 28/50\n",
      "50/50 [==============================] - 0s 4ms/step - loss: 8.1482e-04 - accuracy: 0.9994 - val_loss: 0.0038 - val_accuracy: 0.9975\n",
      "Epoch 29/50\n",
      "50/50 [==============================] - 0s 4ms/step - loss: 3.8701e-05 - accuracy: 1.0000 - val_loss: 0.0028 - val_accuracy: 0.9975\n",
      "Epoch 30/50\n",
      "50/50 [==============================] - 0s 4ms/step - loss: 6.5410e-05 - accuracy: 1.0000 - val_loss: 0.0020 - val_accuracy: 1.0000\n",
      "Epoch 31/50\n",
      "50/50 [==============================] - 0s 4ms/step - loss: 0.0024 - accuracy: 0.9987 - val_loss: 0.0020 - val_accuracy: 1.0000\n",
      "Epoch 32/50\n",
      "50/50 [==============================] - 0s 4ms/step - loss: 1.4603e-04 - accuracy: 1.0000 - val_loss: 0.0017 - val_accuracy: 1.0000\n",
      "Epoch 33/50\n",
      "50/50 [==============================] - 0s 5ms/step - loss: 7.5005e-05 - accuracy: 1.0000 - val_loss: 0.0017 - val_accuracy: 1.0000\n",
      "Epoch 34/50\n",
      "50/50 [==============================] - 0s 5ms/step - loss: 3.6959e-04 - accuracy: 1.0000 - val_loss: 1.7743e-04 - val_accuracy: 1.0000\n",
      "Epoch 35/50\n",
      "50/50 [==============================] - 0s 4ms/step - loss: 3.6400e-04 - accuracy: 1.0000 - val_loss: 0.0058 - val_accuracy: 0.9975\n",
      "Epoch 36/50\n",
      "50/50 [==============================] - 0s 4ms/step - loss: 2.5911e-04 - accuracy: 1.0000 - val_loss: 0.0015 - val_accuracy: 1.0000\n",
      "Epoch 37/50\n",
      "50/50 [==============================] - 0s 4ms/step - loss: 1.0461e-04 - accuracy: 1.0000 - val_loss: 9.7837e-04 - val_accuracy: 1.0000\n",
      "Epoch 38/50\n",
      "50/50 [==============================] - 0s 4ms/step - loss: 4.2281e-05 - accuracy: 1.0000 - val_loss: 9.0808e-04 - val_accuracy: 1.0000\n",
      "Epoch 39/50\n",
      "50/50 [==============================] - 0s 4ms/step - loss: 9.6371e-05 - accuracy: 1.0000 - val_loss: 6.4440e-04 - val_accuracy: 1.0000\n",
      "Epoch 40/50\n",
      "50/50 [==============================] - 0s 4ms/step - loss: 1.3899e-05 - accuracy: 1.0000 - val_loss: 7.3927e-04 - val_accuracy: 1.0000\n",
      "Epoch 41/50\n",
      "50/50 [==============================] - 0s 4ms/step - loss: 9.4914e-05 - accuracy: 1.0000 - val_loss: 5.4706e-04 - val_accuracy: 1.0000\n",
      "Epoch 42/50\n",
      "50/50 [==============================] - 0s 4ms/step - loss: 1.6293e-04 - accuracy: 1.0000 - val_loss: 4.2331e-04 - val_accuracy: 1.0000\n",
      "Epoch 43/50\n",
      "50/50 [==============================] - 0s 4ms/step - loss: 6.4105e-05 - accuracy: 1.0000 - val_loss: 0.0012 - val_accuracy: 1.0000\n",
      "Epoch 44/50\n",
      "50/50 [==============================] - 0s 4ms/step - loss: 1.2382e-05 - accuracy: 1.0000 - val_loss: 0.0016 - val_accuracy: 1.0000\n",
      "Epoch 45/50\n",
      "50/50 [==============================] - 0s 4ms/step - loss: 9.4043e-05 - accuracy: 1.0000 - val_loss: 2.6395e-04 - val_accuracy: 1.0000\n",
      "Epoch 46/50\n",
      "50/50 [==============================] - 0s 3ms/step - loss: 6.4635e-05 - accuracy: 1.0000 - val_loss: 5.6149e-04 - val_accuracy: 1.0000\n",
      "Epoch 47/50\n",
      "50/50 [==============================] - 0s 3ms/step - loss: 2.0412e-04 - accuracy: 1.0000 - val_loss: 1.2365e-04 - val_accuracy: 1.0000\n",
      "Epoch 48/50\n",
      "50/50 [==============================] - 0s 4ms/step - loss: 3.3324e-05 - accuracy: 1.0000 - val_loss: 2.4569e-04 - val_accuracy: 1.0000\n",
      "Epoch 49/50\n",
      "50/50 [==============================] - 0s 3ms/step - loss: 2.7917e-04 - accuracy: 1.0000 - val_loss: 6.0215e-04 - val_accuracy: 1.0000\n",
      "Epoch 50/50\n",
      "50/50 [==============================] - 0s 5ms/step - loss: 3.2765e-04 - accuracy: 1.0000 - val_loss: 7.4123e-04 - val_accuracy: 1.0000\n"
     ]
    }
   ],
   "source": [
    "history = model.fit(\n",
    "    X_train, y_train,\n",
    "    epochs=50,\n",
    "    batch_size=32,\n",
    "    validation_data=(X_test, y_test)\n",
    ")"
   ]
  },
  {
   "cell_type": "code",
   "execution_count": 11,
   "id": "7a269ca2-c8d6-447d-aabb-07b5519037a6",
   "metadata": {
    "colab": {
     "base_uri": "https://localhost:8080/"
    },
    "id": "7a269ca2-c8d6-447d-aabb-07b5519037a6",
    "outputId": "70502be0-8da0-4049-dc40-08aa8726875f"
   },
   "outputs": [
    {
     "name": "stdout",
     "output_type": "stream",
     "text": [
      "13/13 [==============================] - 0s 2ms/step - loss: 7.4123e-04 - accuracy: 1.0000\n",
      "Test Loss: 0.0007, Test Accuracy: 1.0000\n"
     ]
    }
   ],
   "source": [
    "loss, accuracy = model.evaluate(X_test, y_test)\n",
    "print(f'Test Loss: {loss:.4f}, Test Accuracy: {accuracy:.4f}')"
   ]
  },
  {
   "cell_type": "code",
   "execution_count": 16,
   "id": "ce1e685c-331a-41e2-b157-9082dd5ffdd1",
   "metadata": {
    "colab": {
     "base_uri": "https://localhost:8080/",
     "height": 564
    },
    "id": "ce1e685c-331a-41e2-b157-9082dd5ffdd1",
    "outputId": "3cbb879e-857d-4686-eafc-7aa90c0898a0"
   },
   "outputs": [
    {
     "data": {
      "image/png": "[encoded data removed]",
      "text/plain": [
       "<Figure size 1000x500 with 1 Axes>"
      ]
     },
     "metadata": {},
     "output_type": "display_data"
    }
   ],
   "source": [
    "plt.figure(figsize=(10, 5))\n",
    "plt.plot(history.history['accuracy'], label='Training Accuracy')\n",
    "plt.plot(history.history['val_accuracy'], label='Validation Accuracy')\n",
    "plt.title('Training and Validation Accuracy')\n",
    "plt.xlabel('Epoch')\n",
    "plt.ylabel('Accuracy')\n",
    "plt.legend()\n",
    "plt.show()"
   ]
  },
  {
   "cell_type": "code",
   "execution_count": 19,
   "id": "a0ffc60c-8a40-49c4-a7db-ce717b8a700e",
   "metadata": {
    "colab": {
     "base_uri": "https://localhost:8080/"
    },
    "id": "a0ffc60c-8a40-49c4-a7db-ce717b8a700e",
    "outputId": "0951704a-9b3a-4b72-aa73-ea374f08c290"
   },
   "outputs": [
    {
     "name": "stdout",
     "output_type": "stream",
     "text": [
      "1/1 [==============================] - 0s 39ms/step\n"
     ]
    }
   ],
   "source": [
    "new_audio_sample = np.random.rand(2, num_features)\n",
    "predicted_probabilities = model.predict(new_audio_sample)"
   ]
  },
  {
   "cell_type": "code",
   "execution_count": 20,
   "id": "84b67352-6a53-42fa-8b4b-51d63a069a5c",
   "metadata": {
    "id": "84b67352-6a53-42fa-8b4b-51d63a069a5c"
   },
   "outputs": [],
   "source": [
    "predicted_class = np.argmax(predicted_probabilities)\n",
    "emotion_mapping = {0: 'happy', 1: 'sad', 2: 'angry', 3: 'fear'}\n",
    "predicted_emotion = emotion_mapping[predicted_class]"
   ]
  },
  {
   "cell_type": "code",
   "execution_count": 21,
   "id": "8402054c-0854-486b-a906-9b3df03c0623",
   "metadata": {
    "colab": {
     "base_uri": "https://localhost:8080/"
    },
    "id": "8402054c-0854-486b-a906-9b3df03c0623",
    "outputId": "1956f29f-a0b9-4f42-8910-64a9c8a54869"
   },
   "outputs": [
    {
     "name": "stdout",
     "output_type": "stream",
     "text": [
      "Predicted Emotion:  fear\n"
     ]
    }
   ],
   "source": [
    "print('Predicted Emotion: ',predicted_emotion)"
   ]
  },
  {
   "cell_type": "code",
   "execution_count": 22,
   "id": "f0182078-bf80-4eb2-a7d5-3b0471c158b6",
   "metadata": {},
   "outputs": [
    {
     "name": "stdout",
     "output_type": "stream",
     "text": [
      "This is Speech Emotion Recognition Model by Ayushi Lanjewar\n"
     ]
    }
   ],
   "source": [
    "print(\"This is Speech Emotion Recognition Model by Ayushi Lanjewar\")"
   ]
  },
  {
   "cell_type": "code",
   "execution_count": null,
   "id": "10bb8c4c-c8fd-4d27-94f2-620c53a340b3",
   "metadata": {},
   "outputs": [],
   "source": []
  }
 ],
 "metadata": {
  "colab": {
   "provenance": []
  },
  "kernelspec": {
   "display_name": "Python 3 (ipykernel)",
   "language": "python",
   "name": "python3"
  },
  "language_info": {
   "codemirror_mode": {
    "name": "ipython",
    "version": 3
   },
   "file_extension": ".py",
   "mimetype": "text/x-python",
   "name": "python",
   "nbconvert_exporter": "python",
   "pygments_lexer": "ipython3",
   "version": "3.11.2"
  }
 },
 "nbformat": 4,
 "nbformat_minor": 5
}
